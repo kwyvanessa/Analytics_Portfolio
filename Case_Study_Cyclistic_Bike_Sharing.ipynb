{
 "cells": [
  {
   "cell_type": "markdown",
   "metadata": {},
   "source": [
    "# Case Study: How Does a Bike-Share Navigate Speedy Success?\n",
    "\n",
    "This case study is part of the [Google Data Analytics Professional Certificate](https://www.credly.com/badges/9483b79a-9dae-4ebb-be1f-d4a547cbb914/public_url)\n",
    "\n",
    "## Executive Summary\n",
    "\n",
    "To increase the number of annual memberships to Cyclistic's bike-sharing program, usage trends in current members and casual users were identified and recommendations for the upcoming marketing strategies are provided in this report.\n",
    "\n",
    "## Introduction\n",
    "\n",
    "Cyclistic is a (fictional) biking sharing program in Chicago, with 5800+ bicycle and 600+ docking stations. To make bike-share more inclusive to people with disabilities and bikers who can't use a standard two-wheeled bike, Cyclistic also offers reclining bikes, hand tricycles and cargo bikes. To build general awareness and appeal to broad consumer segments, Cyclistic also has flexible pricing plans: single-ride passes, full-day passes and annual memberships.\n",
    "\n",
    "Based on previous market research that showed annual members are more profitable than casual riders, the Marketing Director believes that the company's success depends on **maximizing the number of annual memberships**. The KPI for this case study is **number of new annual members from existing casual users**. Before designing a new marketing strategy to convert casual riders into annual members, I, as a junior marketing analyst, have to present recommendations backed with compelling data insights and professional data visualizations to the following stakeholders:\n",
    "* Marketing Director\n",
    "* Marketing Analytics Team\n",
    "* Executive Team\n",
    "\n",
    "### ***Key Questions*** \n",
    "\n",
    "To determine the future marketing strategy, the marketing analytics team first asked the following questions:\n",
    "\n",
    "1. How do annual members and casual riders use Cyclistic bikes differently? (**focus of this case study**)\n",
    "2. Why would casual riders buy Cyclistic annual memberships?\n",
    "3. How can Cyclistic use digital media to influence casual riders to become members?\n",
    "\n",
    "### ***Data Preparation*** \n",
    "\n",
    "In order to address the key business question, *how to maximize the number of annual memberships by understanding how annual members and casual riders use Cyclistic bikes differently*, the previous 12 months of Cyclistic trip data (csv files) is used. \n",
    "\n",
    "Data used in this case study has been made available by Motivate International Inc. under this [license](https://ride.divvybikes.com/data-license-agreement), and is downloaded from [here](https://divvy-tripdata.s3.amazonaws.com/index.html). This is public data that can be used to explore how different customer types are using Cyclistic bikes, but data-privacy issues prohibit the user of riders' personally identifiable information. \n",
    "\n",
    "To answer *how annual members and casual riders use Cyclistic bikes differently*, a few things can be measured:\n",
    "* how long do different types of users use the bikes for each ride? (ride length)\n",
    "* on what day of the week do different types of users rent the bikes? assuming that users use the bikes on weekday to commute and on the weekends for leisure. \n",
    "* which type of bikes do they use?\n",
    "* does the usage of bikes differ between warmer and colder months?\n",
    "\n",
    "### ***Data Processing*** \n",
    "\n",
    "The trip data collected contains the following information:\n",
    "* the date and time of the beginning and end of each ride \n",
    "* start station name and id\n",
    "* end station name and id\n",
    "* member type \n",
    "\n",
    "To process the data for analysis, the columns \"ride_length\" and \"day_of_week\" will be added to the trip data for each month (27 files in total; from 2020-04 to 2022-06)\n"
   ]
  },
  {
   "cell_type": "code",
   "execution_count": 4,
   "metadata": {},
   "outputs": [],
   "source": [
    "import numpy as np\n",
    "import pandas as pd\n",
    "import glob\n",
    "\n",
    "# load and merge all csv files for tripdata \n",
    "path = '/Users/Vanessa/Data_Portfolio/Case_Study_1_Cyclistic/RawData/trip_data_csv/'\n",
    "all_files = glob.glob(path + \"/*.csv\")\n",
    "\n",
    "dataframe = []\n",
    "\n",
    "for file in all_files:\n",
    "    df = pd.read_csv(file, index_col=None)\n",
    "    dataframe.append(df)\n",
    "\n",
    "trip_data_all = pd.concat(dataframe, axis=0, join='outer', ignore_index=True)\n"
   ]
  },
  {
   "cell_type": "code",
   "execution_count": 5,
   "metadata": {},
   "outputs": [],
   "source": [
    "# check data type \n",
    "trip_data_all['ended_at'].dtypes\n",
    "trip_data_all['started_at'].dtypes\n",
    "# convert from object str to datetime \n",
    "trip_data_all['ended_at'] = pd.to_datetime(trip_data_all['ended_at'], format = \"%Y/%m/%d %H:%M:%S\")\n",
    "trip_data_all['started_at'] = pd.to_datetime(trip_data_all['started_at'], format = \"%Y/%m/%d %H:%M:%S\")"
   ]
  },
  {
   "cell_type": "code",
   "execution_count": 6,
   "metadata": {},
   "outputs": [],
   "source": [
    "# add 2 columns to the dataframe: ride_duration and day_of_week\n",
    "from datetime import datetime\n",
    "import calendar\n",
    "# convert datetime difference from seconds to minutes\n",
    "ride_duration = trip_data_all['ended_at'] - trip_data_all['started_at']\n",
    "trip_data_all['ride_duration'] = ride_duration.dt.seconds / 60\n",
    "# compute day_of_week based on date\n",
    "# 0 is Sunday, 6 is Saturday\n",
    "trip_data_all['day_of_week'] = trip_data_all['started_at'].dt.strftime('%w') \n",
    "# convert from object to int\n",
    "trip_data_all['day_of_week'] = trip_data_all['day_of_week'].astype('int') "
   ]
  },
  {
   "cell_type": "code",
   "execution_count": 7,
   "metadata": {},
   "outputs": [
    {
     "name": "stdout",
     "output_type": "stream",
     "text": [
      "            ride_id  rideable_type          started_at            ended_at  \\\n",
      "0  BD0A6FF6FFF9B921  electric_bike 2020-11-01 13:36:00 2020-11-01 13:45:40   \n",
      "1  96A7A7A4BDE4F82D  electric_bike 2020-11-01 10:03:26 2020-11-01 10:14:45   \n",
      "2  C61526D06582BDC5  electric_bike 2020-11-01 00:34:05 2020-11-01 01:03:06   \n",
      "3  E533E89C32080B9E  electric_bike 2020-11-01 00:45:16 2020-11-01 00:54:31   \n",
      "4  1C9F4EF18C168C60  electric_bike 2020-11-01 15:43:25 2020-11-01 16:16:52   \n",
      "\n",
      "          start_station_name start_station_id          end_station_name  \\\n",
      "0      Dearborn St & Erie St            110.0    St. Clair St & Erie St   \n",
      "1  Franklin St & Illinois St            672.0  Noble St & Milwaukee Ave   \n",
      "2  Lake Shore Dr & Monroe St             76.0      Federal St & Polk St   \n",
      "3   Leavitt St & Chicago Ave            659.0   Stave St & Armitage Ave   \n",
      "4        Buckingham Fountain              2.0       Buckingham Fountain   \n",
      "\n",
      "  end_station_id  start_lat  start_lng    end_lat    end_lng member_casual  \\\n",
      "0          211.0  41.894177 -87.629127  41.894434 -87.623379        casual   \n",
      "1           29.0  41.890959 -87.635343  41.900675 -87.662480        casual   \n",
      "2           41.0  41.880983 -87.616754  41.872054 -87.629550        casual   \n",
      "3          185.0  41.895499 -87.682013  41.917744 -87.691392        casual   \n",
      "4            2.0  41.876497 -87.620358  41.876448 -87.620338        casual   \n",
      "\n",
      "   ride_duration  day_of_week  \n",
      "0       9.666667            0  \n",
      "1      11.316667            0  \n",
      "2      29.016667            0  \n",
      "3       9.250000            0  \n",
      "4      33.450000            0  \n",
      "(10988591, 15)\n"
     ]
    },
    {
     "data": {
      "text/plain": [
       "<bound method DataFrame.dropna of                    ride_id  rideable_type          started_at  \\\n",
       "0         BD0A6FF6FFF9B921  electric_bike 2020-11-01 13:36:00   \n",
       "1         96A7A7A4BDE4F82D  electric_bike 2020-11-01 10:03:26   \n",
       "2         C61526D06582BDC5  electric_bike 2020-11-01 00:34:05   \n",
       "3         E533E89C32080B9E  electric_bike 2020-11-01 00:45:16   \n",
       "4         1C9F4EF18C168C60  electric_bike 2020-11-01 15:43:25   \n",
       "...                    ...            ...                 ...   \n",
       "10988586  EF56D7D1D612AC11  electric_bike 2021-05-20 16:32:14   \n",
       "10988587  745191CB9F21DE3C   classic_bike 2021-05-29 16:40:37   \n",
       "10988588  428575BAA5356BFF  electric_bike 2021-05-31 14:24:54   \n",
       "10988589  FC8A4A7AB7249662  electric_bike 2021-05-25 16:01:33   \n",
       "10988590  E873B8AA3EE84678    docked_bike 2021-05-12 12:22:14   \n",
       "\n",
       "                    ended_at               start_station_name  \\\n",
       "0        2020-11-01 13:45:40            Dearborn St & Erie St   \n",
       "1        2020-11-01 10:14:45        Franklin St & Illinois St   \n",
       "2        2020-11-01 01:03:06        Lake Shore Dr & Monroe St   \n",
       "3        2020-11-01 00:54:31         Leavitt St & Chicago Ave   \n",
       "4        2020-11-01 16:16:52              Buckingham Fountain   \n",
       "...                      ...                              ...   \n",
       "10988586 2021-05-20 16:35:39  Blackstone Ave & Hyde Park Blvd   \n",
       "10988587 2021-05-29 17:22:37       Sheridan Rd & Montrose Ave   \n",
       "10988588 2021-05-31 14:31:38       Sheridan Rd & Montrose Ave   \n",
       "10988589 2021-05-25 16:07:37       Sheridan Rd & Montrose Ave   \n",
       "10988590 2021-05-12 12:30:27       Sheridan Rd & Montrose Ave   \n",
       "\n",
       "         start_station_id          end_station_name end_station_id  start_lat  \\\n",
       "0                   110.0    St. Clair St & Erie St          211.0  41.894177   \n",
       "1                   672.0  Noble St & Milwaukee Ave           29.0  41.890959   \n",
       "2                    76.0      Federal St & Polk St           41.0  41.880983   \n",
       "3                   659.0   Stave St & Armitage Ave          185.0  41.895499   \n",
       "4                     2.0       Buckingham Fountain            2.0  41.876497   \n",
       "...                   ...                       ...            ...        ...   \n",
       "10988586            13398                       NaN            NaN  41.802581   \n",
       "10988587     TA1307000107     Michigan Ave & Oak St          13042  41.961670   \n",
       "10988588     TA1307000107                       NaN            NaN  41.961525   \n",
       "10988589     TA1307000107                       NaN            NaN  41.961654   \n",
       "10988590     TA1307000107       Clark St & Grace St   TA1307000127  41.961670   \n",
       "\n",
       "          start_lng    end_lat    end_lng member_casual  ride_duration  \\\n",
       "0        -87.629127  41.894434 -87.623379        casual       9.666667   \n",
       "1        -87.635343  41.900675 -87.662480        casual      11.316667   \n",
       "2        -87.616754  41.872054 -87.629550        casual      29.016667   \n",
       "3        -87.682013  41.917744 -87.691392        casual       9.250000   \n",
       "4        -87.620358  41.876448 -87.620338        casual      33.450000   \n",
       "...             ...        ...        ...           ...            ...   \n",
       "10988586 -87.590230  41.800000 -87.600000        member       3.416667   \n",
       "10988587 -87.654640  41.900960 -87.623777        casual      42.000000   \n",
       "10988588 -87.654651  41.950000 -87.650000        member       6.733333   \n",
       "10988589 -87.654721  41.980000 -87.660000        member       6.066667   \n",
       "10988590 -87.654640  41.950780 -87.659172        casual       8.216667   \n",
       "\n",
       "          day_of_week  \n",
       "0                   0  \n",
       "1                   0  \n",
       "2                   0  \n",
       "3                   0  \n",
       "4                   0  \n",
       "...               ...  \n",
       "10988586            4  \n",
       "10988587            6  \n",
       "10988588            1  \n",
       "10988589            2  \n",
       "10988590            3  \n",
       "\n",
       "[10988591 rows x 15 columns]>"
      ]
     },
     "execution_count": 7,
     "metadata": {},
     "output_type": "execute_result"
    }
   ],
   "source": [
    "print(trip_data_all.head())\n",
    "print(trip_data_all.shape)\n",
    "# trip_data_all contains 10988591 rows and 15 columns\n",
    "# remove duplicates and null values from trip_data_all\n",
    "trip_data_all.drop_duplicates\n",
    "trip_data_all.dropna"
   ]
  },
  {
   "cell_type": "markdown",
   "metadata": {},
   "source": [
    "### ***Data Analysis*** \n",
    "\n",
    "After making sure the data is clean (free of duplicates and null values), I will get some descriptive statistics of the dataset:\n",
    "* the compositon of user (% of member & % of casual users)\n",
    "* which day of the week is the most popular? (mode of day_of_week)\n",
    "* how long do users rent for the bikes for? (mean, max, std of ride_duration)\n",
    "* the type of bikes used\n",
    "\n",
    "and explore these variables for (i) both members and casual users, and (ii) during the week and on the weekends."
   ]
  },
  {
   "cell_type": "code",
   "execution_count": 8,
   "metadata": {},
   "outputs": [
    {
     "name": "stdout",
     "output_type": "stream",
     "text": [
      "percent of users (member) 56.75 %\n",
      "percent of users (casual) 43.25 %\n"
     ]
    }
   ],
   "source": [
    "# percentage of member and casual users\n",
    "member = (trip_data_all['member_casual'].loc[trip_data_all['member_casual']=='member'].count()/trip_data_all['member_casual'].count())*100\n",
    "print('percent of users (member)', round(member,2),'%')\n",
    "casual = (trip_data_all['member_casual'].loc[trip_data_all['member_casual']=='casual'].count()/trip_data_all['member_casual'].count())*100\n",
    "print('percent of users (casual)', round(casual,2),'%')"
   ]
  },
  {
   "cell_type": "code",
   "execution_count": 9,
   "metadata": {},
   "outputs": [
    {
     "data": {
      "text/plain": [
       "count    1.098859e+07\n",
       "mean     2.203790e+01\n",
       "std      5.972430e+01\n",
       "min      0.000000e+00\n",
       "25%      6.900000e+00\n",
       "50%      1.245000e+01\n",
       "75%      2.293333e+01\n",
       "max      1.439983e+03\n",
       "Name: ride_duration, dtype: float64"
      ]
     },
     "execution_count": 9,
     "metadata": {},
     "output_type": "execute_result"
    }
   ],
   "source": [
    "# descriptive statistics for ride_duration\n",
    "trip_data_all['ride_duration'].describe()"
   ]
  },
  {
   "cell_type": "code",
   "execution_count": 10,
   "metadata": {},
   "outputs": [
    {
     "data": {
      "text/plain": [
       "0    6\n",
       "Name: day_of_week, dtype: int64"
      ]
     },
     "execution_count": 10,
     "metadata": {},
     "output_type": "execute_result"
    }
   ],
   "source": [
    "# most popular day(s) of the week\n",
    "trip_data_all['day_of_week'].mode()"
   ]
  },
  {
   "cell_type": "code",
   "execution_count": 11,
   "metadata": {},
   "outputs": [
    {
     "name": "stdout",
     "output_type": "stream",
     "text": [
      "avg ride duration for members on a weekday: 14.86 minutes\n",
      "avg ride duration for members on weekends: 23.62 minutes\n",
      "avg ride duration for casual riders on a weekday: 28.18 minutes\n",
      "avg ride duration for casual riders on weekends: 28.77 minutes\n"
     ]
    }
   ],
   "source": [
    "# average ride_duration for member and casual users during the week and on weekends\n",
    "ride_duration_member_weekday = trip_data_all['ride_duration'].loc[((trip_data_all['member_casual'] == 'member') & (trip_data_all['day_of_week'] != 0) & (trip_data_all['day_of_week'] != 6))].mean()\n",
    "print('avg ride duration for members on a weekday:', round(ride_duration_member_weekday,2),'minutes')\n",
    "ride_duration_member_weekend = trip_data_all['ride_duration'].loc[((trip_data_all['member_casual'] == 'member') & (trip_data_all['day_of_week'] == 0) | (trip_data_all['day_of_week'] == 6))].mean()\n",
    "print('avg ride duration for members on weekends:', round(ride_duration_member_weekend,2),'minutes')\n",
    "ride_duration_casual_weekday = trip_data_all['ride_duration'].loc[((trip_data_all['member_casual'] == 'casual') & (trip_data_all['day_of_week'] != 0) & (trip_data_all['day_of_week'] != 6))].mean()\n",
    "print('avg ride duration for casual riders on a weekday:', round(ride_duration_casual_weekday,2),'minutes')\n",
    "ride_duration_casual_weekend = trip_data_all['ride_duration'].loc[((trip_data_all['member_casual'] == 'casual') & (trip_data_all['day_of_week'] == 0) | (trip_data_all['day_of_week'] == 6))].mean()\n",
    "print('avg ride duration for casual riders on weekends:', round(ride_duration_casual_weekend,2),'minutes')"
   ]
  },
  {
   "cell_type": "code",
   "execution_count": 12,
   "metadata": {},
   "outputs": [
    {
     "name": "stdout",
     "output_type": "stream",
     "text": [
      "avg # of rides from members per week on a weekday: 652875\n",
      "avg # of rides from members per week on a weekend: 386557\n",
      "avg # of rides from casual users per week on a weekday: 403757\n",
      "avg # of rides from casual users per week on a weekend: 402124\n"
     ]
    }
   ],
   "source": [
    "# frequency of rides on a weekday for members\n",
    "freq_rides_member_weekday = (trip_data_all['ride_duration'].loc[((trip_data_all['member_casual'] == 'member') & (trip_data_all['day_of_week'] != 0) & (trip_data_all['day_of_week'] != 6))].count()) / 7 \n",
    "print('avg # of rides from members per week on a weekday:',int(freq_rides_member_weekday))\n",
    "# frequency of rides on a weekend for members\n",
    "freq_rides_member_weekend = (trip_data_all['ride_duration'].loc[((trip_data_all['member_casual'] == 'member') & (trip_data_all['day_of_week'] == 0) | (trip_data_all['day_of_week'] == 6))].count()) / 7\n",
    "print('avg # of rides from members per week on a weekend:',int(freq_rides_member_weekend))\n",
    "# frequency of rides on a weekday for casual users\n",
    "freq_rides_casual_weekday = (trip_data_all['ride_duration'].loc[((trip_data_all['member_casual'] == 'casual') & (trip_data_all['day_of_week'] != 0) & (trip_data_all['day_of_week'] != 6))].count()) / 7 \n",
    "print('avg # of rides from casual users per week on a weekday:',int(freq_rides_casual_weekday))\n",
    "# frequency of rides on a weekend for casual users\n",
    "freq_rides_casual_weekend = (trip_data_all['ride_duration'].loc[((trip_data_all['member_casual'] == 'casual') & (trip_data_all['day_of_week'] == 0) | (trip_data_all['day_of_week'] == 6))].count()) / 7 \n",
    "print('avg # of rides from casual users per week on a weekend:',int(freq_rides_casual_weekend))\n"
   ]
  },
  {
   "cell_type": "code",
   "execution_count": 73,
   "metadata": {},
   "outputs": [
    {
     "name": "stdout",
     "output_type": "stream",
     "text": [
      "2020        4              61148\n",
      "            5             113365\n",
      "            6             188287\n",
      "            7             282184\n",
      "            8             332700\n",
      "            9             302266\n",
      "            10            243641\n",
      "            11            171617\n",
      "            12            101493\n",
      "2021        1              78717\n",
      "            2              39491\n",
      "            3             144463\n",
      "            4             200629\n",
      "            5             274717\n",
      "            6             358914\n",
      "            7             380354\n",
      "            8             391681\n",
      "            9             392257\n",
      "            10            373984\n",
      "            11            253049\n",
      "            12            177802\n",
      "2022        1              85250\n",
      "            2              94193\n",
      "            3             194160\n",
      "            4             244832\n",
      "            5             354443\n",
      "            6             400153\n"
     ]
    }
   ],
   "source": [
    "# avg # of rides per month members\n",
    "df = trip_data_all['started_at'].loc[trip_data_all['member_casual'] == 'member']\n",
    "number_of_rides_per_month_members = df.groupby([(pd.DatetimeIndex(df).year),(pd.DatetimeIndex(df).month)]).count()\n",
    "print(number_of_rides_per_month_members.to_string(header=False))"
   ]
  },
  {
   "cell_type": "code",
   "execution_count": 38,
   "metadata": {},
   "outputs": [
    {
     "name": "stdout",
     "output_type": "stream",
     "text": [
      "2020        4              23628\n",
      "            5              86909\n",
      "            6             154718\n",
      "            7             269296\n",
      "            8             289661\n",
      "            9             230692\n",
      "            10            145012\n",
      "            11             88099\n",
      "            12             30080\n",
      "2021        1              18117\n",
      "            2              10131\n",
      "            3              84033\n",
      "            4             136601\n",
      "            5             256916\n",
      "            6             370681\n",
      "            7             442056\n",
      "            8             412671\n",
      "            9             363890\n",
      "            10            257242\n",
      "            11            106929\n",
      "            12             69738\n",
      "2022        1              18520\n",
      "            2              21416\n",
      "            3              89882\n",
      "            4             126417\n",
      "            5             280415\n",
      "            6             369051\n"
     ]
    }
   ],
   "source": [
    "# avg # of rides per month casual users\n",
    "df = trip_data_all['started_at'].loc[trip_data_all['member_casual'] == 'casual']\n",
    "number_of_rides_per_month_casual = df.groupby([(pd.DatetimeIndex(df).year),(pd.DatetimeIndex(df).month)]).count()\n",
    "print(number_of_rides_per_month_casual.to_string(header=False))"
   ]
  },
  {
   "cell_type": "code",
   "execution_count": 13,
   "metadata": {},
   "outputs": [
    {
     "name": "stdout",
     "output_type": "stream",
     "text": [
      "['electric_bike', 'classic_bike', 'docked_bike']\n"
     ]
    }
   ],
   "source": [
    "# type of bikes provided by Cyclistic\n",
    "print(df.rideable_type.unique().tolist())"
   ]
  },
  {
   "cell_type": "code",
   "execution_count": 14,
   "metadata": {},
   "outputs": [
    {
     "name": "stdout",
     "output_type": "stream",
     "text": [
      "rideable_type\n",
      "classic_bike     0.448367\n",
      "docked_bike      0.231227\n",
      "electric_bike    0.320405\n",
      "Name: rideable_type, dtype: float64\n",
      "rideable_type\n",
      "classic_bike     0.351805\n",
      "docked_bike      0.313444\n",
      "electric_bike    0.334751\n",
      "Name: rideable_type, dtype: float64\n"
     ]
    }
   ],
   "source": [
    "# type of bikes used by members \n",
    "rideable_type_members = (trip_data_all['rideable_type'].loc[trip_data_all['member_casual'] == 'member'].groupby(by=trip_data_all.rideable_type).count()) / (trip_data_all['rideable_type'].loc[trip_data_all['member_casual'] == 'member'].count())\n",
    "print(rideable_type_members)\n",
    "# type of bikes rented by casual users\n",
    "rideable_type_casual = (trip_data_all['rideable_type'].loc[trip_data_all['member_casual'] == 'casual'].groupby(by=trip_data_all.rideable_type).count()) / (trip_data_all['rideable_type'].loc[trip_data_all['member_casual'] == 'casual'].count())\n",
    "print(rideable_type_casual)\n"
   ]
  },
  {
   "cell_type": "markdown",
   "metadata": {},
   "source": [
    "### ***Data Visualization*** \n",
    "\n",
    "To answer the question, *how annual members and casual riders use Cyclistic bikes differently*, I will prepare 5 plots.\n",
    "\n",
    "1. a pie chart showing the fraction of annual members and casual riders who use Cyclistic"
   ]
  },
  {
   "cell_type": "code",
   "execution_count": 15,
   "metadata": {},
   "outputs": [
    {
     "data": {
      "image/png": "[encoded data removed]",
      "text/plain": [
       "<Figure size 432x288 with 1 Axes>"
      ]
     },
     "metadata": {},
     "output_type": "display_data"
    }
   ],
   "source": [
    "import matplotlib.pyplot as plt\n",
    "\n",
    "labels = 'casual riders', 'annual members'\n",
    "sizes = [casual, member]\n",
    "\n",
    "plt.pie(sizes, labels=labels, autopct='%1.1f%%')\n",
    "plt.title('Composition of Cyclistic users')\n",
    "plt.show()\n"
   ]
  },
  {
   "cell_type": "markdown",
   "metadata": {},
   "source": [
    "2. a grouped bar chart comparing average number of rides by day of week between the two membership types"
   ]
  },
  {
   "cell_type": "code",
   "execution_count": 16,
   "metadata": {},
   "outputs": [
    {
     "data": {
      "image/png": "[encoded data removed]",
      "text/plain": [
       "<Figure size 432x288 with 1 Axes>"
      ]
     },
     "metadata": {
      "needs_background": "light"
     },
     "output_type": "display_data"
    }
   ],
   "source": [
    "labels = 'weekday', 'weekend'\n",
    "x = np.arange(len(labels))  # the label locations\n",
    "\n",
    "casual = [freq_rides_casual_weekday, freq_rides_casual_weekend]\n",
    "member = [freq_rides_member_weekday, freq_rides_member_weekend]\n",
    "\n",
    "width = 0.35  # the width of the bars\n",
    "\n",
    "plt.bar(x - width/2, casual, width, label='casual')\n",
    "plt.bar(x + width/2, member, width, label='member')\n",
    "\n",
    "plt.xticks(x, labels)\n",
    "plt.ylabel('avg # of rides per week')\n",
    "plt.title('avg # of rides by day of week and membership type')\n",
    "plt.legend()\n",
    "plt.tight_layout()"
   ]
  },
  {
   "cell_type": "markdown",
   "metadata": {},
   "source": [
    "3. 2 pie charts, each depicting the fraction of bike types used by the two types of users"
   ]
  },
  {
   "cell_type": "code",
   "execution_count": 19,
   "metadata": {},
   "outputs": [
    {
     "data": {
      "image/png": "[encoded data removed]",
      "text/plain": [
       "<Figure size 432x288 with 2 Axes>"
      ]
     },
     "metadata": {},
     "output_type": "display_data"
    }
   ],
   "source": [
    "fig = plt.figure()\n",
    "# pie chart 1 showing the fraction of bike types used by members\n",
    "ax1 = fig.add_subplot(121)\n",
    "labels = 'classic', 'docked', 'electric'\n",
    "colors = ['#e9c46a', '#2a9d8f', '#264653']\n",
    "ax1.pie(rideable_type_members, colors=colors, autopct = '%1.1f%%')\n",
    "ax1.set_title('members', pad = 20)\n",
    "# pie chart 2 showing the fraction of bike types used by casual users\n",
    "ax2 = fig.add_subplot(122)\n",
    "ax2.pie(rideable_type_casual, colors=colors, autopct = '%1.1f%%')\n",
    "ax2.set_title('casual', pad = 20)\n",
    "# legend\n",
    "fig.legend(labels, loc ='center right')"
   ]
  },
  {
   "cell_type": "markdown",
   "metadata": {},
   "source": [
    "4. a grouped bar chart comparing average ride duration on day of week and between the two types of users"
   ]
  },
  {
   "cell_type": "code",
   "execution_count": 18,
   "metadata": {},
   "outputs": [
    {
     "data": {
      "image/png": "[encoded data removed]",
      "text/plain": [
       "<Figure size 432x288 with 1 Axes>"
      ]
     },
     "metadata": {
      "needs_background": "light"
     },
     "output_type": "display_data"
    }
   ],
   "source": [
    "labels = 'weekday', 'weekend'\n",
    "x = np.arange(len(labels))  # the label locations\n",
    "\n",
    "casual = [ride_duration_casual_weekday, ride_duration_casual_weekend]\n",
    "member = [ride_duration_member_weekday, ride_duration_member_weekend]\n",
    "\n",
    "width = 0.35  # the width of the bars\n",
    "\n",
    "plt.bar(x - width/2, casual, width, label='casual')\n",
    "plt.bar(x + width/2, member, width, label='member')\n",
    "\n",
    "plt.xticks(x, labels)\n",
    "plt.ylabel('avg ride duration (in mins)')\n",
    "plt.title('avg ride duration by day of week and membership type')\n",
    "plt.legend()\n",
    "plt.tight_layout()"
   ]
  },
  {
   "cell_type": "markdown",
   "metadata": {},
   "source": [
    "5. a line graph showing the trends of number of rides per month between the two types of users"
   ]
  },
  {
   "cell_type": "code",
   "execution_count": 81,
   "metadata": {},
   "outputs": [
    {
     "data": {
      "image/png": "[encoded data removed]",
      "text/plain": [
       "<Figure size 432x288 with 1 Axes>"
      ]
     },
     "metadata": {
      "needs_background": "light"
     },
     "output_type": "display_data"
    }
   ],
   "source": [
    "number_of_rides_per_month_members.plot(label='member')\n",
    "number_of_rides_per_month_casual.plot(label='casual')\n",
    "plt.xlabel('time')\n",
    "plt.ylabel('number of rides')\n",
    "plt.title('number of rides per month')\n",
    "plt.legend()\n",
    "plt.show()"
   ]
  },
  {
   "cell_type": "markdown",
   "metadata": {},
   "source": [
    "### **Findings and Recommendations**\n",
    "\n",
    "The analysis revealed insights into *how casual riders and annual members use Cyclistic bikes differently*:\n",
    "* Annual members also use 60% more Cyclistic bikes on a weekday, suggesting that they commute by bike.\n",
    "* Average duration of trip is longer on a weekday for casual users.\n",
    "* Annual members use more traditional bikes while the distribution is more equal among casual users:\n",
    "    * more casual users use docked bikes when compared to annual members\n",
    "* Both types of members ride more during the warmer months\n",
    "\n",
    "Based on these findings, to convert casual riders into annual members, my top recommendation would be:\n",
    "**increase the number of casual users on weekdays by promoting the benefits of commute by bike**\n",
    "\n",
    "To better understand why casual users use more docked bikes than classic bikes, (i) the location of where bikes are picked up and dropped off and (ii) the distribution of docking stations should be examined.\n"
   ]
  }
 ],
 "metadata": {
  "kernelspec": {
   "display_name": "Python 3 (ipykernel)",
   "language": "python",
   "name": "python3"
  },
  "language_info": {
   "codemirror_mode": {
    "name": "ipython",
    "version": 3
   },
   "file_extension": ".py",
   "mimetype": "text/x-python",
   "name": "python",
   "nbconvert_exporter": "python",
   "pygments_lexer": "ipython3",
   "version": "3.9.12"
  }
 },
 "nbformat": 4,
 "nbformat_minor": 4
}
